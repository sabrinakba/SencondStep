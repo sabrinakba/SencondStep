{
 "cells": [
  {
   "cell_type": "code",
   "execution_count": 1,
   "metadata": {},
   "outputs": [],
   "source": [
    "from matplotlib import pyplot as plt\n",
    "from nltk.tokenize import sent_tokenize\n",
    "import pandas as pd\n",
    "from nltk.corpus import stopwords \n",
    "stop_words = stopwords.words('english')\n",
    "import numpy as np\n",
    "from gensim.corpora import Dictionary\n",
    "from gensim.models import TfidfModel\n",
    "from gensim.models import WordEmbeddingSimilarityIndex\n",
    "from gensim.similarities import SparseTermSimilarityMatrix\n",
    "from gensim.similarities import SoftCosineSimilarity\n",
    "from sklearn.metrics.pairwise import cosine_similarity"
   ]
  },
  {
   "cell_type": "code",
   "execution_count": 2,
   "metadata": {},
   "outputs": [
    {
     "data": {
      "text/html": [
       "<div>\n",
       "<style scoped>\n",
       "    .dataframe tbody tr th:only-of-type {\n",
       "        vertical-align: middle;\n",
       "    }\n",
       "\n",
       "    .dataframe tbody tr th {\n",
       "        vertical-align: top;\n",
       "    }\n",
       "\n",
       "    .dataframe thead th {\n",
       "        text-align: right;\n",
       "    }\n",
       "</style>\n",
       "<table border=\"1\" class=\"dataframe\">\n",
       "  <thead>\n",
       "    <tr style=\"text-align: right;\">\n",
       "      <th></th>\n",
       "      <th>task</th>\n",
       "      <th>paper_id</th>\n",
       "      <th>doi</th>\n",
       "      <th>title</th>\n",
       "      <th>summary</th>\n",
       "      <th>score</th>\n",
       "      <th>sentences</th>\n",
       "    </tr>\n",
       "  </thead>\n",
       "  <tbody>\n",
       "    <tr>\n",
       "      <th>0</th>\n",
       "      <td>what is the immune system response to 2019-ncov ?</td>\n",
       "      <td>40dabecefc2f0a2b750e000d1c15cca57a3f7dd4</td>\n",
       "      <td>10.1016/0163-7258(85)90033-6</td>\n",
       "      <td>ANIMAL VIRUSES OF ECONOMIC IMPORTANCE: GENETIC...</td>\n",
       "      <td>in broad terms the immune system among vertebr...</td>\n",
       "      <td>0.927845</td>\n",
       "      <td>[('in broad terms the immune system among vert...</td>\n",
       "    </tr>\n",
       "    <tr>\n",
       "      <th>1</th>\n",
       "      <td>what is the immune system response to 2019-ncov ?</td>\n",
       "      <td>2008f024274c53b0de1276f4047a6a641813fd98</td>\n",
       "      <td>10.1016/S1081-1206(10)61294-X</td>\n",
       "      <td>ABSTRACTS: CONCURRENT SESSIONS</td>\n",
       "      <td>the infection has also occurred in newborns wi...</td>\n",
       "      <td>0.814046</td>\n",
       "      <td>[('the infection has also occurred in newborns...</td>\n",
       "    </tr>\n",
       "    <tr>\n",
       "      <th>2</th>\n",
       "      <td>what is the immune system response to 2019-ncov ?</td>\n",
       "      <td>fea50730d7cdcd7c728f98c31fe20aeb8af5e350</td>\n",
       "      <td>10.1016/j.compbiomed.2020.103670</td>\n",
       "      <td>Computers and viral diseases. Preliminary bioi...</td>\n",
       "      <td>is 2019-ncov. cysteine c should be avoided per...</td>\n",
       "      <td>0.779853</td>\n",
       "      <td>[('is 2019-ncov.', 1.0743433338565338), ('cyst...</td>\n",
       "    </tr>\n",
       "    <tr>\n",
       "      <th>3</th>\n",
       "      <td>what is the immune system response to 2019-ncov ?</td>\n",
       "      <td>6aadca94314fe7e81e278fbbef178f2a5bf4f538</td>\n",
       "      <td>10.1186/cc13531</td>\n",
       "      <td>Minimising prescribing errors in the ICU DJ Me...</td>\n",
       "      <td>also in these patients cortisol correlates to ...</td>\n",
       "      <td>0.763274</td>\n",
       "      <td>[('also in these patients cortisol correlates ...</td>\n",
       "    </tr>\n",
       "    <tr>\n",
       "      <th>4</th>\n",
       "      <td>what is the immune system response to 2019-ncov ?</td>\n",
       "      <td>68ac63121bded12e1db3178a0c9b050154f81ab8</td>\n",
       "      <td>10.1016/j.mehy.2015.11.005</td>\n",
       "      <td>Seasonality and selective trends in viral acut...</td>\n",
       "      <td>although heat stress may boost the immune syst...</td>\n",
       "      <td>0.724360</td>\n",
       "      <td>[('although heat stress may boost the immune s...</td>\n",
       "    </tr>\n",
       "  </tbody>\n",
       "</table>\n",
       "</div>"
      ],
      "text/plain": [
       "                                                task  \\\n",
       "0  what is the immune system response to 2019-ncov ?   \n",
       "1  what is the immune system response to 2019-ncov ?   \n",
       "2  what is the immune system response to 2019-ncov ?   \n",
       "3  what is the immune system response to 2019-ncov ?   \n",
       "4  what is the immune system response to 2019-ncov ?   \n",
       "\n",
       "                                   paper_id                               doi  \\\n",
       "0  40dabecefc2f0a2b750e000d1c15cca57a3f7dd4      10.1016/0163-7258(85)90033-6   \n",
       "1  2008f024274c53b0de1276f4047a6a641813fd98     10.1016/S1081-1206(10)61294-X   \n",
       "2  fea50730d7cdcd7c728f98c31fe20aeb8af5e350  10.1016/j.compbiomed.2020.103670   \n",
       "3  6aadca94314fe7e81e278fbbef178f2a5bf4f538                   10.1186/cc13531   \n",
       "4  68ac63121bded12e1db3178a0c9b050154f81ab8        10.1016/j.mehy.2015.11.005   \n",
       "\n",
       "                                               title  \\\n",
       "0  ANIMAL VIRUSES OF ECONOMIC IMPORTANCE: GENETIC...   \n",
       "1                     ABSTRACTS: CONCURRENT SESSIONS   \n",
       "2  Computers and viral diseases. Preliminary bioi...   \n",
       "3  Minimising prescribing errors in the ICU DJ Me...   \n",
       "4  Seasonality and selective trends in viral acut...   \n",
       "\n",
       "                                             summary     score  \\\n",
       "0  in broad terms the immune system among vertebr...  0.927845   \n",
       "1  the infection has also occurred in newborns wi...  0.814046   \n",
       "2  is 2019-ncov. cysteine c should be avoided per...  0.779853   \n",
       "3  also in these patients cortisol correlates to ...  0.763274   \n",
       "4  although heat stress may boost the immune syst...  0.724360   \n",
       "\n",
       "                                           sentences  \n",
       "0  [('in broad terms the immune system among vert...  \n",
       "1  [('the infection has also occurred in newborns...  \n",
       "2  [('is 2019-ncov.', 1.0743433338565338), ('cyst...  \n",
       "3  [('also in these patients cortisol correlates ...  \n",
       "4  [('although heat stress may boost the immune s...  "
      ]
     },
     "execution_count": 2,
     "metadata": {},
     "output_type": "execute_result"
    }
   ],
   "source": [
    "df=pd.read_csv('sentences.csv')\n",
    "summ=df.head(100)\n",
    "summ.head()\n"
   ]
  },
  {
   "cell_type": "code",
   "execution_count": 3,
   "metadata": {},
   "outputs": [
    {
     "data": {
      "text/plain": [
       "(100, 7)"
      ]
     },
     "execution_count": 3,
     "metadata": {},
     "output_type": "execute_result"
    }
   ],
   "source": [
    "summ.shape"
   ]
  },
  {
   "cell_type": "code",
   "execution_count": 4,
   "metadata": {},
   "outputs": [],
   "source": [
    "def remove_stopwords(sen):     \n",
    "    sen_new = \" \".join([i for i in sen if i not in stop_words])          \n",
    "    return sen_new"
   ]
  },
  {
   "cell_type": "code",
   "execution_count": 5,
   "metadata": {},
   "outputs": [],
   "source": [
    "i=1\n",
    "sentences = [] \n",
    "for s in summ['summary']: \n",
    "                   \n",
    "        for x in(sent_tokenize(s)) :\n",
    "            sentences.append(sent_tokenize(x))\n",
    "#print(sentences)    \n",
    "corpus = [y for x in sentences for y in x ]\n",
    "#print(corpus)\n",
    "\n",
    "\n",
    "clean_sentences = pd.Series(corpus).str.replace(\"[^a-zA-Z]\", \" \") \n",
    "        # make alphabets lowercase \n",
    "\n",
    "clean_sentences = [s.lower() for s in clean_sentences]\n",
    "clean_sentences = [remove_stopwords(r.split()) for r in corpus]\n"
   ]
  },
  {
   "cell_type": "code",
   "execution_count": 6,
   "metadata": {},
   "outputs": [],
   "source": [
    "\n",
    "# Extract word vectors \n",
    "word_embeddings = {} \n",
    "f = open(r\"C:\\meriem\\Mémoire\\glove6b\\glove.6B.100d.txt\", encoding='utf-8') \n",
    "for line in f: \n",
    "    values = line.split() \n",
    "    word = values[0] \n",
    "    coefs = np.asarray(values[1:], dtype='float32')    \n",
    "    word_embeddings[word] = coefs \n",
    "f.close()"
   ]
  },
  {
   "cell_type": "code",
   "execution_count": 7,
   "metadata": {},
   "outputs": [],
   "source": [
    "sentence_vectors = [] \n",
    "for i in clean_sentences: \n",
    "    if len(i) != 0: \n",
    "        v = sum([word_embeddings.get(w, np.zeros((100,))) for w in i.split()])/(len(i.split())+0.001) \n",
    "    else: \n",
    "        v = np.zeros((100,)) \n",
    "    sentence_vectors.append(v)"
   ]
  },
  {
   "cell_type": "code",
   "execution_count": 8,
   "metadata": {},
   "outputs": [],
   "source": [
    "sim_mat = np.zeros([len(corpus), len(corpus)])\n",
    "for i in range(len(corpus)): \n",
    "      for j in range(len(corpus)): \n",
    "        if i != j: \n",
    "              sim_mat[i][j] = cosine_similarity (sentence_vectors[i].reshape(1,100), sentence_vectors[j].reshape(1,100))[0,0]"
   ]
  },
  {
   "cell_type": "code",
   "execution_count": 9,
   "metadata": {},
   "outputs": [],
   "source": [
    "import networkx as nx \n",
    "nx_graph = nx.from_numpy_array(sim_mat) \n",
    "scores = nx.pagerank(nx_graph)"
   ]
  },
  {
   "cell_type": "code",
   "execution_count": 11,
   "metadata": {},
   "outputs": [
    {
     "name": "stdout",
     "output_type": "stream",
     "text": [
      "the adaptive immune response to rv infection has been well characterized and studies have demonstrated that cd8+ t cells play a critical role in the timely clearance of a primary infection while b cells are crucial for resistance to re-infection .\n",
      "in terms of the human immune system the innate immune system response plays an important role in controlling the replication and infection of coronavirus and interferon is expected to enhance the immune response 11 .\n",
      "in the present work we have tried to contribute to the information on the immune mechanisms occurring after pedv infection by making a ®rst approach to the characterisation of the antibody response generated by the virus.\n",
      "however for several reasons many virus vector systems are still limited in their ability to induce a broad and long-lasting antiviral immune response capable to prevent hiv infection and/or to reduce viral load.\n",
      "the study shows that the functions of proteinases in the virus entry into the cell as well as in host immune response are relevant for the possible therapy with inhibitors.\n",
      "these projects resulted in a body of experience and design rules-ofthumb which the author and collaborators are seeking to capture by the methods described in section 4. it is to be understood that peptides proposed as b-epitopes for the construction of synthetic peptides rarely work well alone recall that immunogenicity is the ability of a particular substance to provoke an immune response in the body and that an epitope or antigenic determinant is the small part of an antigen that is recognized and distinguished by the immune system specifically by antibodies b cells or t cells .\n",
      "due to this apparent similarity between the two viruses previous research that has provided an understanding of protective immune responses against sars-cov may potentially be leveraged to aid vaccine development for sars-cov-2.\n",
      "due to this apparent similarity between the two viruses previous research that has provided an understanding of protective immune responses against sars-cov may potentially be leveraged to aid vaccine development for sars-cov-2.\n",
      "the present study identifies likely targets of the human immune response to sars-cov-2 encompassing both the b and t cell arms of the adaptive immune response.\n",
      "vaccination strategies designed to target the immune response toward these conserved epitope regions could generate immunity that is not only crossprotective across betacoronaviruses but also relatively resistant to ongoing virus evolution the corresponding peptide sets are being synthesized and will be made available for use by the scientific community upon request to the lji team.\n",
      "the mers rbd-fc fusion demonstrated the ability to block viral infection toward cell receptors as well as to stimulate an immune response against that specific viral domain in mice 47 .\n",
      "these novel findings may be of relevance for other viral infections and can possibly be translated in order to find therapies for their associated diseases immune system activation has also been proven for other viroporins 53 .\n",
      "it is also required for programming functional adaptive immune responses and therefore coordinates the entire host immune response to infection .\n",
      "this may be due to several causes including an alternative approach to achieve prolonged loss of the vector especially if present in an episom-transgene expression is to use artificial chromosome al form transcriptional silencing of the transgene vectors or integrating viruses since they are stable promoter loss of the transfected cell through cell over time and will propagate to daughter cells should turnover or the generation of an immune response to cell division occur.\n",
      "autophagy is also known to mount crucial innate immune responses against invading pathogens with degradation of the latter through autophagy on the other hand autophagosomes may instead help promote virus infection by bringing together viral replicase proteins .\n",
      "second a recent in vitro study suggests that sars-cov nsp1 may be associated with host cell mrna degradation and may counteract innate immune responses .\n",
      "combined treatments which reduce viral replication and the host immune response to it are likely to be valuable developments .\n",
      "this suggests that the type of alteration of the microbiome might be specific for rsv infection but also could be a more general effect of immune system perturbation.\n",
      "s1 subunit for example is much shorter than the full-length s protein but it is no less able to induce strong immune responses and/or protection against viral infection adney et al 2019 .\n",
      "though the exact cellular targets for these accessory activities are unknown plpro has been directly linked to suppressing interferon-b ifnb production by the innate immune response during virus infection .\n"
     ]
    }
   ],
   "source": [
    "\n",
    "ranked_sentences = sorted(((scores[i],s) for i,s in \n",
    "                           enumerate(corpus)), reverse=True)\n",
    "# Extract top 10 sentences as the summary \n",
    "for i in range(20): \n",
    "      print(ranked_sentences[i][1])"
   ]
  },
  {
   "cell_type": "code",
   "execution_count": null,
   "metadata": {},
   "outputs": [],
   "source": []
  }
 ],
 "metadata": {
  "kernelspec": {
   "display_name": "Python 3",
   "language": "python",
   "name": "python3"
  },
  "language_info": {
   "codemirror_mode": {
    "name": "ipython",
    "version": 3
   },
   "file_extension": ".py",
   "mimetype": "text/x-python",
   "name": "python",
   "nbconvert_exporter": "python",
   "pygments_lexer": "ipython3",
   "version": "3.6.5"
  }
 },
 "nbformat": 4,
 "nbformat_minor": 2
}
